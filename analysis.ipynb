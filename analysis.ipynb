{
 "metadata": {
  "language_info": {
   "codemirror_mode": {
    "name": "ipython",
    "version": 3
   },
   "file_extension": ".py",
   "mimetype": "text/x-python",
   "name": "python",
   "nbconvert_exporter": "python",
   "pygments_lexer": "ipython3",
   "version": "3.9.2"
  },
  "orig_nbformat": 2,
  "kernelspec": {
   "name": "python392jvsc74a57bd0fab5064a0f1d91f04d56a017cad89844d2ef63ff3d9e81b3a95effbbfddbfba8",
   "display_name": "Python 3.9.2 64-bit"
  },
  "metadata": {
   "interpreter": {
    "hash": "fab5064a0f1d91f04d56a017cad89844d2ef63ff3d9e81b3a95effbbfddbfba8"
   }
  }
 },
 "nbformat": 4,
 "nbformat_minor": 2,
 "cells": [
  {
   "cell_type": "code",
   "execution_count": 1,
   "metadata": {},
   "outputs": [
    {
     "output_type": "error",
     "ename": "ModuleNotFoundError",
     "evalue": "No module named 'pandas'",
     "traceback": [
      "\u001b[1;31m---------------------------------------------------------------------------\u001b[0m",
      "\u001b[1;31mModuleNotFoundError\u001b[0m                       Traceback (most recent call last)",
      "\u001b[1;32m<ipython-input-1-dac4cf3b60c4>\u001b[0m in \u001b[0;36m<module>\u001b[1;34m\u001b[0m\n\u001b[1;32m----> 1\u001b[1;33m \u001b[1;32mimport\u001b[0m \u001b[0mpandas\u001b[0m \u001b[1;32mas\u001b[0m \u001b[0mpd\u001b[0m\u001b[1;33m\u001b[0m\u001b[1;33m\u001b[0m\u001b[0m\n\u001b[0m\u001b[0;32m      2\u001b[0m \u001b[1;32mfrom\u001b[0m \u001b[0msklearn\u001b[0m\u001b[1;33m.\u001b[0m\u001b[0mlinear_model\u001b[0m \u001b[1;32mimport\u001b[0m \u001b[0mLinearRegression\u001b[0m\u001b[1;33m\u001b[0m\u001b[1;33m\u001b[0m\u001b[0m\n\u001b[0;32m      3\u001b[0m \u001b[1;32mfrom\u001b[0m \u001b[0msklearn\u001b[0m\u001b[1;33m.\u001b[0m\u001b[0mlinear_model\u001b[0m \u001b[1;32mimport\u001b[0m \u001b[0mLogisticRegression\u001b[0m\u001b[1;33m\u001b[0m\u001b[1;33m\u001b[0m\u001b[0m\n\u001b[0;32m      4\u001b[0m \u001b[1;32mfrom\u001b[0m \u001b[0msklearn\u001b[0m\u001b[1;33m.\u001b[0m\u001b[0mmodel_selection\u001b[0m \u001b[1;32mimport\u001b[0m \u001b[0mtrain_test_split\u001b[0m\u001b[1;33m\u001b[0m\u001b[1;33m\u001b[0m\u001b[0m\n\u001b[0;32m      5\u001b[0m \u001b[1;32mfrom\u001b[0m \u001b[0msklearn\u001b[0m\u001b[1;33m.\u001b[0m\u001b[0mfeature_extraction\u001b[0m\u001b[1;33m.\u001b[0m\u001b[0mtext\u001b[0m \u001b[1;32mimport\u001b[0m \u001b[0mTfidfVectorizer\u001b[0m\u001b[1;33m\u001b[0m\u001b[1;33m\u001b[0m\u001b[0m\n",
      "\u001b[1;31mModuleNotFoundError\u001b[0m: No module named 'pandas'"
     ]
    }
   ],
   "source": [
    "import pandas as pd \n",
    "from sklearn.linear_model import LinearRegression\n",
    "from sklearn.linear_model import LogisticRegression\n",
    "from sklearn.model_selection import train_test_split\n",
    "from sklearn.feature_extraction.text import TfidfVectorizer\n"
   ]
  },
  {
   "cell_type": "code",
   "execution_count": 3,
   "metadata": {},
   "outputs": [
    {
     "output_type": "stream",
     "name": "stdout",
     "text": [
      "   Unnamed: 0                      file  \\\n0           1    allen-p/_sent_mail/10.   \n1           2   allen-p/_sent_mail/100.   \n2           4  allen-p/_sent_mail/1001.   \n3           5  allen-p/_sent_mail/1002.   \n4           7  allen-p/_sent_mail/1004.   \n\n                                             message                 date  \\\n0  Message-ID: <15464986.1075855378456.JavaMail.e...  04-05-2001 13:51:00   \n1  Message-ID: <24216240.1075855687451.JavaMail.e...  18-10-2000 03:00:00   \n2  Message-ID: <30922949.1075863688243.JavaMail.e...  31-08-2000 05:07:00   \n3  Message-ID: <30965995.1075863688265.JavaMail.e...  31-08-2000 04:17:00   \n4  Message-ID: <17189699.1075863688308.JavaMail.e...  14-07-2000 06:59:00   \n\n                        subject    X-Folder           X-From  \\\n0                           Re:  'sent mail  Phillip K Allen   \n1                      Re: test  'sent mail  Phillip K Allen   \n2                     Re: Hello  'sent mail  Phillip K Allen   \n3                     Re: Hello  'sent mail  Phillip K Allen   \n4  Re: PRC review - phone calls  'sent mail  Phillip K Allen   \n\n                                                X-To  \\\n0  John J Lavorato <John J Lavorato/ENRON@enronXg...   \n1                                   Leah Van Arsdall   \n2                                         Greg Piper   \n3                                         Greg Piper   \n4                                     Joyce Teixeira   \n\n                                                body employee  \n0  Traveling to have a business meeting takes the...  allen-p  \n1                     test successful.  way to go!!!  allen-p  \n2                Let's shoot for Tuesday at 11:45.    allen-p  \n3  Greg,\\n\\n How about either next Tuesday or Thu...  allen-p  \n4                   any morning between 10 and 11:30  allen-p  \n"
     ]
    }
   ],
   "source": [
    "df = pd.read_csv('cleaned_enron.csv')\n",
    "print(df.head())"
   ]
  },
  {
   "cell_type": "code",
   "execution_count": 4,
   "metadata": {},
   "outputs": [],
   "source": [
    "\n",
    "authorSent = {'allen-p': 2.1024773265651406, 'arnold-j': 0.6442310451977387, 'arora-h': 0.9982235164835173, 'badeer-r': 9.795558139534878, 'bailey-s': 0.5466083743842366, 'bass-e': 10.151537735849077, 'baughman-d': 0.5010865264354729, 'beck-s': 4.530224986876669, 'benson-r': 2.7236933333333315, 'blair-l': 1.164220027816407, 'brawner-s': 19.009613333333334, 'buy-r': 3.6370322666666586, 'campbell-l': 3.0091892055267726, 'carson-m': 7.154578160919547, 'cash-m': 1.1075754303599343, 'causholli-m': 2.283837719298249, 'corman-s': 1.1445650722021654, 'crandell-s': 0.17799970501474904, 'cuilla-m': 0.8433706314243739, 'dasovich-j': 9.779518822170827, 'davis-d': 1.15008884955752, 'dean-c': 2.0459240776698975, 'delainey-d': 3.006034765100655, 'derrick-j': 8.416912230215823, 'dickson-s': 0.08376277850589778, 'donoho-l': 5.355044262295077, 'donohoe-t': 2.324885984848487, 'dorland-c': 4.338851479289941, 'ermis-f': 7.129686111111113, 'farmer-d': 11.405187707641335, 'fischer-m': 0.4319723173515984, 'forney-j': 1.3870732258064518, 'fossum-d': 0.6357092357989337, 'gang-l': 0.6444807272727275, 'gay-r': 1.8514800569800607, 'geaccone-t': 0.3282956047381545, 'germany-c': 1.7949294819466408, 'gilbertsmith-d': 0.32017825295723396, 'giron-d': 0.9476346047974847, 'griffith-j': 3.3420321348314546, 'grigsby-m': 6.53403227513224, 'guzman-m': 1.89612455648926, 'haedicke-m': 0.45724321862348244, 'hain-m': 0.7046164418753988, 'harris-s': 0.3658857142857147, 'hayslett-r': 23.62060322580642, 'heard-m': 2.9407300699300705, 'hendrickson-s': 0.6373289808917197, 'hernandez-j': 0.5871451135763339, 'hodge-j': 1.3880520689655191, 'holst-k': 0.2715784810126586, 'horton-s': 61.380885714285554, 'hyatt-k': 0.44731967769295966, 'hyvl-d': 0.5619493177871476, 'jones-t': 11.109355094991141, 'kaminski-v': 15.27695124528319, 'kean-s': 2.3061179664839995, 'keavey-p': 26.924634693877714, 'keiser-k': 1.9254308673469371, 'king-j': 0.05847194943202636, 'kitchen-l': 1.4714602721088477, 'kuykendall-t': 2.901220603015074, 'lavorato-j': 23.110379452054683, 'lay-k': 4.203185211995911, 'lenhart-m': 0.12684642802391485, 'lewis-a': 3.7074628205128244, 'linder-e': 1.5301595348837171, 'lokay-m': 6.10798439716316, 'lokey-t': 2.1268244776119407, 'love-p': 1.2807209533267148, 'lucci-p': 0.3399271194379392, 'maggi-m': 89.4789583333333, 'mann-k': 6.5134948590380635, 'martin-t': 1.9081301775147939, 'may-l': 73.16146363636395, 'mccarty-d': 4.65421627906976, 'mcconnell-m': 2.776478416013922, 'mckay-b': 1.8578454545454546, 'mckay-j': 1.1541611587982827, 'mclaughlin-e': 34.66197868852446, 'merriss-s': 1.2490204651162757, 'meyers-a': -0.4356413646055436, 'mims-thurston-p': 57.292375, 'motley-m': 1.0883846511627908, 'neal-s': 2.76644340974211, 'nemec-g': 4.441191180285371, 'panus-s': 0.3243322085889576, 'parks-j': 4.369517272727261, 'pereira-s': 0.9590574999999991, 'perlingiere-d': 0.951928079207915, 'phanis-s': 0.03359147286821706, 'pimenov-v': 0.24891416342412429, 'platter-p': 0.0919775280898877, 'presto-k': 6.3725495614034955, 'quenet-j': 0.40212399999999987, 'quigley-d': 1.4638677204658899, 'rapp-b': 0.3872190430622012, 'reitmeyer-j': 16.242410526315783, 'richey-c': 0.47560515021459215, 'ring-a': 0.35397920258620696, 'ring-r': 3.222573684210524, 'rodrique-r': 1.8865505597014804, 'rogers-b': 2.845027974276529, 'ruscitti-k': 4.725356862745099, 'sager-e': 10.410956790123485, 'saibi-e': 0.2723855798192773, 'salisbury-h': 92.47123333333337, 'sanchez-m': 0.22889535519125687, 'sanders-r': 2.8999079020979104, 'scholtes-d': 1.4611227091633443, 'schoolcraft-d': 0.8214217430368409, 'schwieger-j': 0.3088652141247181, 'scott-s': 5.325006847935566, 'semperger-c': 0.20169293556085918, 'shackleton-s': 2.4203355285002495, 'shankman-j': 0.3629197204968939, 'shapiro-r': 0.8545976136363639, 'shively-h': 0.6375232514177688, 'skilling-j': 3.3440426155580676, 'slinger-r': 0.34516395348837203, 'smith-m': 58.09075714285711, 'solberg-g': -0.18842362948960262, 'south-s': 0.032623701578192235, 'staab-t': 0.24680988296488954, 'stclair-c': 0.7160942847124794, 'steffes-j': 0.21907317259854506, 'stepenovitch-j': 2.7392881944444443, 'stokley-c': 0.7776875510204065, 'storey-g': 0.146237545620438, 'sturm-f': 0.9653183760683751, 'swerzbin-m': 0.2931466858789625, 'symes-k': 5.549018959913405, 'taylor-m': 16.538719689119173, 'tholt-j': 93.86674545454561, 'thomas-p': 0.170803360987024, 'townsend-j': 1.2613148734177215, 'tycholiz-b': 1.0024733243967838, 'ward-k': 0.9616383113153322, 'watson-k': 9.476318571428541, 'weldon-c': 0.5220333534743193, 'whalley-g': 4.849665189873412, 'whalley-l': 1.07601308243727, 'white-s': 3.4029041775456896, 'whitt-m': 0.3102164988814317, 'williams-j': 1.9952340796019896, 'williams-w3': 1.8104523908523662, 'wolfe-j': 314.8488000000002, 'ybarbo-p': 0.2287134609350488, 'zipper-a': 0.31048361839604705, 'zufferli-j': 0.08388375744450459}"
   ]
  },
  {
   "cell_type": "code",
   "execution_count": 5,
   "metadata": {},
   "outputs": [],
   "source": [
    "emails = df.sample(n=5)"
   ]
  },
  {
   "cell_type": "code",
   "execution_count": 7,
   "metadata": {},
   "outputs": [
    {
     "output_type": "stream",
     "name": "stdout",
     "text": [
      "17674      baughman-d\n349252    reitmeyer-j\n304863         mann-k\n136195       guzman-m\n275403         love-p\nName: employee, dtype: object 17674     Hey,\\n\\nAfter speaking with Reagan in originat...\n349252    \\nHi, \\n\\tPreviously I forwarded an email to y...\n304863    I think that this will continue to be a very s...\n136195    Hey sweetie.  I am flying in early in the morn...\n275403    I have no knowledge of the change, it does not...\nName: body, dtype: object\n"
     ]
    }
   ],
   "source": [
    "emailEmp = emails['employee']\n",
    "print(emailEmp, emailBody)"
   ]
  },
  {
   "cell_type": "code",
   "execution_count": 9,
   "metadata": {},
   "outputs": [
    {
     "output_type": "error",
     "ename": "ModuleNotFoundError",
     "evalue": "No module named 'vaderSentiment'",
     "traceback": [
      "\u001b[1;31m---------------------------------------------------------------------------\u001b[0m",
      "\u001b[1;31mModuleNotFoundError\u001b[0m                       Traceback (most recent call last)",
      "\u001b[1;32m<ipython-input-9-991f9ee3da59>\u001b[0m in \u001b[0;36m<module>\u001b[1;34m\u001b[0m\n\u001b[1;32m----> 1\u001b[1;33m \u001b[1;32mfrom\u001b[0m \u001b[0mvaderSentiment\u001b[0m\u001b[1;33m.\u001b[0m\u001b[0mvaderSentiment\u001b[0m \u001b[1;32mimport\u001b[0m \u001b[0mSentimentIntensityAnalyzer\u001b[0m\u001b[1;33m\u001b[0m\u001b[1;33m\u001b[0m\u001b[0m\n\u001b[0m\u001b[0;32m      2\u001b[0m \u001b[0msid\u001b[0m \u001b[1;33m=\u001b[0m \u001b[0mSentimentIntensityAnalyzer\u001b[0m\u001b[1;33m(\u001b[0m\u001b[1;33m)\u001b[0m\u001b[1;33m\u001b[0m\u001b[1;33m\u001b[0m\u001b[0m\n\u001b[0;32m      3\u001b[0m \u001b[0memailSent\u001b[0m \u001b[1;33m=\u001b[0m \u001b[1;33m[\u001b[0m\u001b[1;33m]\u001b[0m\u001b[1;33m\u001b[0m\u001b[1;33m\u001b[0m\u001b[0m\n\u001b[0;32m      4\u001b[0m \u001b[0memailBody\u001b[0m \u001b[1;33m=\u001b[0m \u001b[0memails\u001b[0m\u001b[1;33m[\u001b[0m\u001b[1;34m'body'\u001b[0m\u001b[1;33m]\u001b[0m\u001b[1;33m\u001b[0m\u001b[1;33m\u001b[0m\u001b[0m\n\u001b[0;32m      5\u001b[0m \u001b[1;32mfor\u001b[0m \u001b[0memail\u001b[0m \u001b[1;32min\u001b[0m \u001b[0memailBody\u001b[0m\u001b[1;33m:\u001b[0m\u001b[1;33m\u001b[0m\u001b[1;33m\u001b[0m\u001b[0m\n",
      "\u001b[1;31mModuleNotFoundError\u001b[0m: No module named 'vaderSentiment'"
     ]
    }
   ],
   "source": [
    "from vaderSentiment.vaderSentiment import SentimentIntensityAnalyzer\n",
    "sid = SentimentIntensityAnalyzer()\n",
    "emailSent = []\n",
    "emailBody = emails['body']\n",
    "for email in emailBody:\n",
    "    emailScore = sid.polarity_scores(email)\n",
    "    emailSent.append(emailScore)\n",
    "print(emailSent)"
   ]
  },
  {
   "cell_type": "code",
   "execution_count": null,
   "metadata": {},
   "outputs": [],
   "source": []
  }
 ]
}